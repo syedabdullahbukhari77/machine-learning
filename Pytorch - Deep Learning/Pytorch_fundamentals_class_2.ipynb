{
  "nbformat": 4,
  "nbformat_minor": 0,
  "metadata": {
    "colab": {
      "provenance": []
    },
    "kernelspec": {
      "name": "python3",
      "display_name": "Python 3"
    },
    "language_info": {
      "name": "python"
    }
  },
  "cells": [
    {
      "cell_type": "markdown",
      "source": [
        "## **What is Autograd?**\n",
        "- In PyTorch, every tensor can carry a gradient if requires_grad=True.\n",
        "\n",
        "- PyTorch builds a dynamic computation graph when you perform operations.\n",
        "\n",
        "- When you call .backward(), PyTorch automatically applies backpropagation through this graph to compute gradients for each parameter."
      ],
      "metadata": {
        "id": "uulRVgBKNZyb"
      }
    },
    {
      "cell_type": "markdown",
      "source": [
        "##**Backpropagation in PyTorch**\n",
        "\n",
        "Mathematically, backprop is just chain rule of calculus applied recursively."
      ],
      "metadata": {
        "id": "N7V-6N-HUXPu"
      }
    },
    {
      "cell_type": "code",
      "source": [
        "import torch"
      ],
      "metadata": {
        "id": "OgNxdTScIK4A"
      },
      "execution_count": null,
      "outputs": []
    },
    {
      "cell_type": "code",
      "source": [
        "X , y = torch.tensor(2.4 , requires_grad=True) , torch.tensor(4.0 , requires_grad=True)"
      ],
      "metadata": {
        "id": "Wph3Ooi-TJXy"
      },
      "execution_count": null,
      "outputs": []
    },
    {
      "cell_type": "code",
      "source": [
        "z = X**2 + y**3"
      ],
      "metadata": {
        "id": "hHw--vGpTJaI"
      },
      "execution_count": null,
      "outputs": []
    },
    {
      "cell_type": "code",
      "source": [
        "z"
      ],
      "metadata": {
        "id": "KelDng-gTJcZ",
        "colab": {
          "base_uri": "https://localhost:8080/"
        },
        "outputId": "6b4c069c-211a-44c1-e09d-0ffe8fda04a8"
      },
      "execution_count": null,
      "outputs": [
        {
          "output_type": "execute_result",
          "data": {
            "text/plain": [
              "tensor(69.7600, grad_fn=<AddBackward0>)"
            ]
          },
          "metadata": {},
          "execution_count": 4
        }
      ]
    },
    {
      "cell_type": "code",
      "source": [
        "z.backward()"
      ],
      "metadata": {
        "id": "pIErVjQETJeU"
      },
      "execution_count": null,
      "outputs": []
    },
    {
      "cell_type": "code",
      "source": [
        "z"
      ],
      "metadata": {
        "id": "wY2fUTxNTJgY",
        "colab": {
          "base_uri": "https://localhost:8080/"
        },
        "outputId": "63547257-0174-4bfd-982f-7ce80b1a4861"
      },
      "execution_count": null,
      "outputs": [
        {
          "output_type": "execute_result",
          "data": {
            "text/plain": [
              "tensor(69.7600, grad_fn=<AddBackward0>)"
            ]
          },
          "metadata": {},
          "execution_count": 6
        }
      ]
    },
    {
      "cell_type": "code",
      "source": [
        "print(X.grad, y.grad)"
      ],
      "metadata": {
        "id": "i4_Wiw6hTJiL",
        "colab": {
          "base_uri": "https://localhost:8080/"
        },
        "outputId": "018b23b8-32c0-4089-c82c-e0e37d430b99"
      },
      "execution_count": null,
      "outputs": [
        {
          "output_type": "stream",
          "name": "stdout",
          "text": [
            "tensor(4.8000) tensor(48.)\n"
          ]
        }
      ]
    },
    {
      "cell_type": "code",
      "source": [],
      "metadata": {
        "id": "3FsfSKjWTJkN"
      },
      "execution_count": null,
      "outputs": []
    },
    {
      "cell_type": "code",
      "source": [],
      "metadata": {
        "id": "d6DVkDBvTJmH"
      },
      "execution_count": null,
      "outputs": []
    },
    {
      "cell_type": "markdown",
      "source": [
        "##**Mini Gradient Descent Example**"
      ],
      "metadata": {
        "id": "CPUcpbuuUnog"
      }
    },
    {
      "cell_type": "code",
      "source": [
        "import torch\n",
        "import torch.nn as nn\n",
        "import torch.optim as opti"
      ],
      "metadata": {
        "id": "arWwazQWTJoF"
      },
      "execution_count": null,
      "outputs": []
    },
    {
      "cell_type": "code",
      "source": [
        "w = torch.tensor(0.0 , requires_grad=True)"
      ],
      "metadata": {
        "id": "gplMWZySTJp-"
      },
      "execution_count": null,
      "outputs": []
    },
    {
      "cell_type": "code",
      "source": [
        "lr = 0.1"
      ],
      "metadata": {
        "id": "3AtMM8PITKK2"
      },
      "execution_count": null,
      "outputs": []
    },
    {
      "cell_type": "code",
      "source": [
        "for i in range(20):\n",
        "  loss = (w - 5) ** 2\n",
        "\n",
        "  loss.backward()\n",
        "\n",
        "  with torch.no_grad():\n",
        "    w -= lr * w.grad\n",
        "\n",
        "  w.grad.zero_()\n",
        "\n",
        "  print(f'step: {i+1} : weights = {w.item():.4f} , Loss: {loss.item():.4f} ')"
      ],
      "metadata": {
        "id": "EqHgZmdhILfS",
        "colab": {
          "base_uri": "https://localhost:8080/"
        },
        "outputId": "ef537f70-39d6-4012-96c3-b6ac9b585f46"
      },
      "execution_count": null,
      "outputs": [
        {
          "output_type": "stream",
          "name": "stdout",
          "text": [
            "step: 1 : weights = 1.0000 , Loss: 25.0000 \n",
            "step: 2 : weights = 1.8000 , Loss: 16.0000 \n",
            "step: 3 : weights = 2.4400 , Loss: 10.2400 \n",
            "step: 4 : weights = 2.9520 , Loss: 6.5536 \n",
            "step: 5 : weights = 3.3616 , Loss: 4.1943 \n",
            "step: 6 : weights = 3.6893 , Loss: 2.6844 \n",
            "step: 7 : weights = 3.9514 , Loss: 1.7180 \n",
            "step: 8 : weights = 4.1611 , Loss: 1.0995 \n",
            "step: 9 : weights = 4.3289 , Loss: 0.7037 \n",
            "step: 10 : weights = 4.4631 , Loss: 0.4504 \n",
            "step: 11 : weights = 4.5705 , Loss: 0.2882 \n",
            "step: 12 : weights = 4.6564 , Loss: 0.1845 \n",
            "step: 13 : weights = 4.7251 , Loss: 0.1181 \n",
            "step: 14 : weights = 4.7801 , Loss: 0.0756 \n",
            "step: 15 : weights = 4.8241 , Loss: 0.0484 \n",
            "step: 16 : weights = 4.8593 , Loss: 0.0309 \n",
            "step: 17 : weights = 4.8874 , Loss: 0.0198 \n",
            "step: 18 : weights = 4.9099 , Loss: 0.0127 \n",
            "step: 19 : weights = 4.9279 , Loss: 0.0081 \n",
            "step: 20 : weights = 4.9424 , Loss: 0.0052 \n"
          ]
        }
      ]
    },
    {
      "cell_type": "code",
      "source": [
        "a = 0.0\n",
        "lr = 0.1"
      ],
      "metadata": {
        "id": "ucU_1nojTLOF"
      },
      "execution_count": null,
      "outputs": []
    },
    {
      "cell_type": "code",
      "source": [
        "epochs = 30"
      ],
      "metadata": {
        "id": "TVIx9FJAcR-s"
      },
      "execution_count": null,
      "outputs": []
    },
    {
      "cell_type": "code",
      "source": [
        "for epoch in range(30):\n",
        "  grad = 2 * (a - 8)\n",
        "\n",
        "  a = a - lr * grad\n",
        "\n",
        "  loss = (a - 8) ** 2\n",
        "\n",
        "  print(f\"step {i+1}: w={a:.4f}, loss={loss:.4f}, grad={grad:.4f}\")\n",
        "\n"
      ],
      "metadata": {
        "id": "BdcgU-79TLQy",
        "colab": {
          "base_uri": "https://localhost:8080/"
        },
        "outputId": "94b31bca-1bc8-4586-b283-b064ef4546fa"
      },
      "execution_count": null,
      "outputs": [
        {
          "output_type": "stream",
          "name": "stdout",
          "text": [
            "step 20: w=1.6000, loss=40.9600, grad=-16.0000\n",
            "step 20: w=2.8800, loss=26.2144, grad=-12.8000\n",
            "step 20: w=3.9040, loss=16.7772, grad=-10.2400\n",
            "step 20: w=4.7232, loss=10.7374, grad=-8.1920\n",
            "step 20: w=5.3786, loss=6.8719, grad=-6.5536\n",
            "step 20: w=5.9028, loss=4.3980, grad=-5.2429\n",
            "step 20: w=6.3223, loss=2.8147, grad=-4.1943\n",
            "step 20: w=6.6578, loss=1.8014, grad=-3.3554\n",
            "step 20: w=6.9263, loss=1.1529, grad=-2.6844\n",
            "step 20: w=7.1410, loss=0.7379, grad=-2.1475\n",
            "step 20: w=7.3128, loss=0.4722, grad=-1.7180\n",
            "step 20: w=7.4502, loss=0.3022, grad=-1.3744\n",
            "step 20: w=7.5602, loss=0.1934, grad=-1.0995\n",
            "step 20: w=7.6482, loss=0.1238, grad=-0.8796\n",
            "step 20: w=7.7185, loss=0.0792, grad=-0.7037\n",
            "step 20: w=7.7748, loss=0.0507, grad=-0.5629\n",
            "step 20: w=7.8199, loss=0.0325, grad=-0.4504\n",
            "step 20: w=7.8559, loss=0.0208, grad=-0.3603\n",
            "step 20: w=7.8847, loss=0.0133, grad=-0.2882\n",
            "step 20: w=7.9078, loss=0.0085, grad=-0.2306\n",
            "step 20: w=7.9262, loss=0.0054, grad=-0.1845\n",
            "step 20: w=7.9410, loss=0.0035, grad=-0.1476\n",
            "step 20: w=7.9528, loss=0.0022, grad=-0.1181\n",
            "step 20: w=7.9622, loss=0.0014, grad=-0.0944\n",
            "step 20: w=7.9698, loss=0.0009, grad=-0.0756\n",
            "step 20: w=7.9758, loss=0.0006, grad=-0.0604\n",
            "step 20: w=7.9807, loss=0.0004, grad=-0.0484\n",
            "step 20: w=7.9845, loss=0.0002, grad=-0.0387\n",
            "step 20: w=7.9876, loss=0.0002, grad=-0.0309\n",
            "step 20: w=7.9901, loss=0.0001, grad=-0.0248\n"
          ]
        }
      ]
    },
    {
      "cell_type": "code",
      "source": [
        "w = torch.tensor(0.0 , requires_grad=True)"
      ],
      "metadata": {
        "id": "vbMxG6vWTLVj"
      },
      "execution_count": null,
      "outputs": []
    },
    {
      "cell_type": "code",
      "source": [
        "lr = 0.1"
      ],
      "metadata": {
        "id": "vjveJeQ9TLai"
      },
      "execution_count": null,
      "outputs": []
    },
    {
      "cell_type": "code",
      "source": [
        "k = torch.tensor(0.0 , requires_grad=True)"
      ],
      "metadata": {
        "id": "CVPZuI5TTLeO"
      },
      "execution_count": null,
      "outputs": []
    },
    {
      "cell_type": "code",
      "source": [],
      "metadata": {
        "id": "dyMQ0v9MTLga"
      },
      "execution_count": null,
      "outputs": []
    },
    {
      "cell_type": "markdown",
      "source": [
        "## **Neural Network 1st Layer**"
      ],
      "metadata": {
        "id": "h32iGVDzmfq7"
      }
    },
    {
      "cell_type": "code",
      "source": [
        "X = torch.tensor([[1.0], [2.0], [3.0], [4.0]])\n",
        "Y = torch.tensor([[3.0], [5.0], [7.0], [9.0]])"
      ],
      "metadata": {
        "id": "dfKm7TKmTLih"
      },
      "execution_count": null,
      "outputs": []
    },
    {
      "cell_type": "code",
      "source": [
        "import torch.nn as nn"
      ],
      "metadata": {
        "id": "EyqYMA9yTLke"
      },
      "execution_count": null,
      "outputs": []
    },
    {
      "cell_type": "code",
      "source": [
        "model = nn.Linear(1 , 1)"
      ],
      "metadata": {
        "id": "BIo-NlvvTLnF"
      },
      "execution_count": null,
      "outputs": []
    },
    {
      "cell_type": "code",
      "source": [
        "loss_fn = nn.MSELoss()"
      ],
      "metadata": {
        "id": "kvusOk1uTLpi"
      },
      "execution_count": null,
      "outputs": []
    },
    {
      "cell_type": "code",
      "source": [
        "optimizer = torch.optim.SGD(\n",
        "    model.parameters(),\n",
        "    lr = 0.1)"
      ],
      "metadata": {
        "id": "fMcULlg4TLrm"
      },
      "execution_count": null,
      "outputs": []
    },
    {
      "cell_type": "code",
      "source": [
        "epochs = 30"
      ],
      "metadata": {
        "id": "K84213jznIAs"
      },
      "execution_count": null,
      "outputs": []
    },
    {
      "cell_type": "code",
      "source": [
        "for epoch in range(30):\n",
        "  y_pred = model(X)\n",
        "\n",
        "  loss = loss_fn(y_pred , Y)\n",
        "\n",
        "  optimizer.zero_grad()\n",
        "  loss.backward()\n",
        "  optimizer.step()\n",
        "\n",
        "  w = model.weight.item()\n",
        "  b = model.bias.item()\n",
        "\n",
        "  print(f\"Epoch {epoch+1}: Loss={loss.item():.4f}, Weight={w:.4f}, Bias={b:.4f}\")"
      ],
      "metadata": {
        "colab": {
          "base_uri": "https://localhost:8080/"
        },
        "id": "e7isIwrmnAiN",
        "outputId": "d8d1c121-4f32-4a36-a852-b62f4748b9a2"
      },
      "execution_count": null,
      "outputs": [
        {
          "output_type": "stream",
          "name": "stdout",
          "text": [
            "Epoch 1: Loss=45.7966, Weight=3.4192, Bias=1.7002\n",
            "Epoch 2: Loss=20.5652, Weight=0.9403, Bias=0.8506\n",
            "Epoch 3: Loss=9.2365, Weight=2.6046, Bias=1.4103\n",
            "Epoch 4: Loss=4.1500, Weight=1.4926, Bias=1.0260\n",
            "Epoch 5: Loss=1.8660, Weight=2.2407, Bias=1.2745\n",
            "Epoch 6: Loss=0.8404, Weight=1.7424, Bias=1.0992\n",
            "Epoch 7: Loss=0.3798, Weight=2.0792, Bias=1.2082\n",
            "Epoch 8: Loss=0.1728, Weight=1.8563, Bias=1.1270\n",
            "Epoch 9: Loss=0.0798, Weight=2.0084, Bias=1.1734\n",
            "Epoch 10: Loss=0.0379, Weight=1.9091, Bias=1.1346\n",
            "Epoch 11: Loss=0.0189, Weight=1.9782, Bias=1.1531\n",
            "Epoch 12: Loss=0.0103, Weight=1.9344, Bias=1.1334\n",
            "Epoch 13: Loss=0.0063, Weight=1.9661, Bias=1.1395\n",
            "Epoch 14: Loss=0.0044, Weight=1.9472, Bias=1.1286\n",
            "Epoch 15: Loss=0.0035, Weight=1.9621, Bias=1.1293\n",
            "Epoch 16: Loss=0.0030, Weight=1.9543, Bias=1.1223\n",
            "Epoch 17: Loss=0.0027, Weight=1.9617, Bias=1.1207\n",
            "Epoch 18: Loss=0.0025, Weight=1.9588, Bias=1.1157\n",
            "Epoch 19: Loss=0.0023, Weight=1.9627, Bias=1.1132\n",
            "Epoch 20: Loss=0.0021, Weight=1.9620, Bias=1.1092\n",
            "Epoch 21: Loss=0.0020, Weight=1.9644, Bias=1.1063\n",
            "Epoch 22: Loss=0.0019, Weight=1.9646, Bias=1.1029\n",
            "Epoch 23: Loss=0.0018, Weight=1.9662, Bias=1.1000\n",
            "Epoch 24: Loss=0.0017, Weight=1.9669, Bias=1.0969\n",
            "Epoch 25: Loss=0.0016, Weight=1.9681, Bias=1.0940\n",
            "Epoch 26: Loss=0.0015, Weight=1.9689, Bias=1.0912\n",
            "Epoch 27: Loss=0.0014, Weight=1.9700, Bias=1.0885\n",
            "Epoch 28: Loss=0.0013, Weight=1.9708, Bias=1.0858\n",
            "Epoch 29: Loss=0.0012, Weight=1.9717, Bias=1.0833\n",
            "Epoch 30: Loss=0.0012, Weight=1.9725, Bias=1.0808\n"
          ]
        }
      ]
    },
    {
      "cell_type": "code",
      "source": [
        "import torch\n",
        "w1 , w2 = torch.tensor(0.0 , requires_grad=True) , torch.tensor(0.0 , requires_grad=True)"
      ],
      "metadata": {
        "id": "CLRP-doBb4t7"
      },
      "execution_count": null,
      "outputs": []
    },
    {
      "cell_type": "code",
      "source": [
        "lr = 0.1"
      ],
      "metadata": {
        "id": "dc2wyF5Yb4q8"
      },
      "execution_count": null,
      "outputs": []
    },
    {
      "cell_type": "code",
      "source": [
        "import torch\n",
        "\n",
        "# start weights (wrong values)\n",
        "w1 = torch.tensor(0.0, requires_grad=True)\n",
        "w2 = torch.tensor(0.0, requires_grad=True)\n",
        "\n",
        "lr = 0.1  # learning rate\n",
        "\n",
        "for i in range(10):\n",
        "    # Loss function: how far from targets 3 and -2?\n",
        "    loss = (w1 - 3)**2 + (w2 + 2)**2\n",
        "\n",
        "    # Backpropagation: compute gradients\n",
        "    loss.backward()\n",
        "\n",
        "    print(f\"Step {i+1} BEFORE update:\")\n",
        "    print(f\"   w1 = {w1.item():.4f}, grad_w1 = {w1.grad.item():.4f}\")\n",
        "    print(f\"   w2 = {w2.item():.4f}, grad_w2 = {w2.grad.item():.4f}\")\n",
        "    print(f\"   Loss = {loss.item():.4f}\")\n",
        "\n",
        "    with torch.no_grad():\n",
        "        # Update both weights using gradients\n",
        "        w1 -= lr * w1.grad\n",
        "        w2 -= lr * w2.grad\n",
        "\n",
        "    # Reset gradients\n",
        "    w1.grad.zero_()\n",
        "    w2.grad.zero_()\n",
        "\n",
        "    print(f\"Step {i+1} AFTER update:\")\n",
        "    print(f\"   w1 = {w1.item():.4f}, grad_w1 = {w1.grad.item():.4f}\")\n",
        "    print(f\"   w2 = {w2.item():.4f}, grad_w2 = {w2.grad.item():.4f}\")\n",
        "    print(f\"   Loss = {loss.item():.4f}\")\n",
        "\n"
      ],
      "metadata": {
        "colab": {
          "base_uri": "https://localhost:8080/"
        },
        "id": "MeLXC039b4Y7",
        "outputId": "25948333-c8f6-4d6c-ae81-0e5ccbc48e20"
      },
      "execution_count": null,
      "outputs": [
        {
          "output_type": "stream",
          "name": "stdout",
          "text": [
            "Step 1 BEFORE update:\n",
            "   w1 = 0.0000, grad_w1 = -6.0000\n",
            "   w2 = 0.0000, grad_w2 = 4.0000\n",
            "   Loss = 13.0000\n",
            "Step 1 AFTER update:\n",
            "   w1 = 0.6000, grad_w1 = 0.0000\n",
            "   w2 = -0.4000, grad_w2 = 0.0000\n",
            "   Loss = 13.0000\n",
            "Step 2 BEFORE update:\n",
            "   w1 = 0.6000, grad_w1 = -4.8000\n",
            "   w2 = -0.4000, grad_w2 = 3.2000\n",
            "   Loss = 8.3200\n",
            "Step 2 AFTER update:\n",
            "   w1 = 1.0800, grad_w1 = 0.0000\n",
            "   w2 = -0.7200, grad_w2 = 0.0000\n",
            "   Loss = 8.3200\n",
            "Step 3 BEFORE update:\n",
            "   w1 = 1.0800, grad_w1 = -3.8400\n",
            "   w2 = -0.7200, grad_w2 = 2.5600\n",
            "   Loss = 5.3248\n",
            "Step 3 AFTER update:\n",
            "   w1 = 1.4640, grad_w1 = 0.0000\n",
            "   w2 = -0.9760, grad_w2 = 0.0000\n",
            "   Loss = 5.3248\n",
            "Step 4 BEFORE update:\n",
            "   w1 = 1.4640, grad_w1 = -3.0720\n",
            "   w2 = -0.9760, grad_w2 = 2.0480\n",
            "   Loss = 3.4079\n",
            "Step 4 AFTER update:\n",
            "   w1 = 1.7712, grad_w1 = 0.0000\n",
            "   w2 = -1.1808, grad_w2 = 0.0000\n",
            "   Loss = 3.4079\n",
            "Step 5 BEFORE update:\n",
            "   w1 = 1.7712, grad_w1 = -2.4576\n",
            "   w2 = -1.1808, grad_w2 = 1.6384\n",
            "   Loss = 2.1810\n",
            "Step 5 AFTER update:\n",
            "   w1 = 2.0170, grad_w1 = 0.0000\n",
            "   w2 = -1.3446, grad_w2 = 0.0000\n",
            "   Loss = 2.1810\n",
            "Step 6 BEFORE update:\n",
            "   w1 = 2.0170, grad_w1 = -1.9661\n",
            "   w2 = -1.3446, grad_w2 = 1.3107\n",
            "   Loss = 1.3959\n",
            "Step 6 AFTER update:\n",
            "   w1 = 2.2136, grad_w1 = 0.0000\n",
            "   w2 = -1.4757, grad_w2 = 0.0000\n",
            "   Loss = 1.3959\n",
            "Step 7 BEFORE update:\n",
            "   w1 = 2.2136, grad_w1 = -1.5729\n",
            "   w2 = -1.4757, grad_w2 = 1.0486\n",
            "   Loss = 0.8934\n",
            "Step 7 AFTER update:\n",
            "   w1 = 2.3709, grad_w1 = 0.0000\n",
            "   w2 = -1.5806, grad_w2 = 0.0000\n",
            "   Loss = 0.8934\n",
            "Step 8 BEFORE update:\n",
            "   w1 = 2.3709, grad_w1 = -1.2583\n",
            "   w2 = -1.5806, grad_w2 = 0.8389\n",
            "   Loss = 0.5717\n",
            "Step 8 AFTER update:\n",
            "   w1 = 2.4967, grad_w1 = 0.0000\n",
            "   w2 = -1.6645, grad_w2 = 0.0000\n",
            "   Loss = 0.5717\n",
            "Step 9 BEFORE update:\n",
            "   w1 = 2.4967, grad_w1 = -1.0066\n",
            "   w2 = -1.6645, grad_w2 = 0.6711\n",
            "   Loss = 0.3659\n",
            "Step 9 AFTER update:\n",
            "   w1 = 2.5973, grad_w1 = 0.0000\n",
            "   w2 = -1.7316, grad_w2 = 0.0000\n",
            "   Loss = 0.3659\n",
            "Step 10 BEFORE update:\n",
            "   w1 = 2.5973, grad_w1 = -0.8053\n",
            "   w2 = -1.7316, grad_w2 = 0.5369\n",
            "   Loss = 0.2342\n",
            "Step 10 AFTER update:\n",
            "   w1 = 2.6779, grad_w1 = 0.0000\n",
            "   w2 = -1.7853, grad_w2 = 0.0000\n",
            "   Loss = 0.2342\n"
          ]
        }
      ]
    },
    {
      "cell_type": "code",
      "source": [
        "# Training data (x, y)\n",
        "x = torch.tensor([1.0, 2.0, 3.0, 4.0])\n",
        "y = torch.tensor([3.0, 5.0, 7.0, 9.0])  # true relation: y = 2x + 1"
      ],
      "metadata": {
        "id": "_hzYLYYGWDEG"
      },
      "execution_count": null,
      "outputs": []
    },
    {
      "cell_type": "code",
      "source": [
        "# Parameters (weights and bias) we want to learn\n",
        "w = torch.tensor(0.0, requires_grad=True)  # slope\n",
        "b = torch.tensor(0.0, requires_grad=True)  # intercept"
      ],
      "metadata": {
        "id": "YoW0uKFVsh4V"
      },
      "execution_count": null,
      "outputs": []
    },
    {
      "cell_type": "code",
      "source": [
        "lr = 0.1"
      ],
      "metadata": {
        "id": "NR9hXYfZsiC_"
      },
      "execution_count": null,
      "outputs": []
    },
    {
      "cell_type": "code",
      "source": [
        "# Training data (x, y)\n",
        "x = torch.tensor([1.0, 2.0, 3.0, 4.0])\n",
        "y = torch.tensor([3.0, 5.0, 7.0, 9.0])  # true relation: y = 2x + 1\n",
        "\n",
        "for epoch in range(20):\n",
        "  y_pred = w * x + b\n",
        "\n",
        "  loss = ((y_pred - y) ** 2).mean()\n",
        "\n",
        "  loss.backward()\n",
        "\n",
        "  with torch.no_grad():\n",
        "    w -= lr * w.grad\n",
        "    b -= lr * b.grad\n",
        "\n",
        "  w.grad.zero_()\n",
        "  b.grad.zero_()\n",
        "\n",
        "  print(f\"Step {epoch+1}: w = {w.item():.4f}, b = {b.item():.4f}, Loss = {loss.item():.4f}\")"
      ],
      "metadata": {
        "colab": {
          "base_uri": "https://localhost:8080/"
        },
        "id": "u-yLpwUjs59a",
        "outputId": "1229fa0b-ebc4-470b-e38b-c44df09bbec6"
      },
      "execution_count": null,
      "outputs": [
        {
          "output_type": "stream",
          "name": "stdout",
          "text": [
            "Step 1: w = 2.0520, b = 0.8488, Loss = 0.0041\n",
            "Step 2: w = 2.0496, b = 0.8530, Loss = 0.0038\n",
            "Step 3: w = 2.0487, b = 0.8576, Loss = 0.0036\n",
            "Step 4: w = 2.0469, b = 0.8618, Loss = 0.0034\n",
            "Step 5: w = 2.0457, b = 0.8660, Loss = 0.0032\n",
            "Step 6: w = 2.0442, b = 0.8699, Loss = 0.0030\n",
            "Step 7: w = 2.0429, b = 0.8739, Loss = 0.0028\n",
            "Step 8: w = 2.0416, b = 0.8776, Loss = 0.0027\n",
            "Step 9: w = 2.0404, b = 0.8813, Loss = 0.0025\n",
            "Step 10: w = 2.0392, b = 0.8848, Loss = 0.0024\n",
            "Step 11: w = 2.0380, b = 0.8883, Loss = 0.0022\n",
            "Step 12: w = 2.0368, b = 0.8916, Loss = 0.0021\n",
            "Step 13: w = 2.0358, b = 0.8949, Loss = 0.0020\n",
            "Step 14: w = 2.0347, b = 0.8980, Loss = 0.0018\n",
            "Step 15: w = 2.0336, b = 0.9011, Loss = 0.0017\n",
            "Step 16: w = 2.0326, b = 0.9041, Loss = 0.0016\n",
            "Step 17: w = 2.0317, b = 0.9069, Loss = 0.0015\n",
            "Step 18: w = 2.0307, b = 0.9097, Loss = 0.0014\n",
            "Step 19: w = 2.0298, b = 0.9124, Loss = 0.0014\n",
            "Step 20: w = 2.0289, b = 0.9150, Loss = 0.0013\n"
          ]
        }
      ]
    },
    {
      "cell_type": "code",
      "source": [
        "w_list = []"
      ],
      "metadata": {
        "id": "_GCpvY-kuE1i"
      },
      "execution_count": null,
      "outputs": []
    },
    {
      "cell_type": "code",
      "source": [
        "import torch"
      ],
      "metadata": {
        "id": "5E6p7HCRuk7z"
      },
      "execution_count": null,
      "outputs": []
    },
    {
      "cell_type": "code",
      "source": [
        "a = torch.tensor(0.0 ,\n",
        "                 requires_grad=True)\n",
        "\n",
        "b = torch.tensor(0.0,\n",
        "                 requires_grad=True)"
      ],
      "metadata": {
        "id": "xj0Ha12ALUvo"
      },
      "execution_count": null,
      "outputs": []
    },
    {
      "cell_type": "code",
      "source": [
        "lr = 0.1"
      ],
      "metadata": {
        "id": "06sfzZTGLhzM"
      },
      "execution_count": null,
      "outputs": []
    },
    {
      "cell_type": "code",
      "source": [
        "epochs = 50"
      ],
      "metadata": {
        "id": "h1JG0DGILsVF"
      },
      "execution_count": null,
      "outputs": []
    },
    {
      "cell_type": "code",
      "source": [
        "for epoch in range(epochs):\n",
        "\n",
        "  loss_a = 2**(a - 10)\n",
        "  loss_b = 2**(b - 4)\n",
        "\n",
        "  loss = loss_a + loss_b\n",
        "\n",
        "  loss.backward()\n",
        "\n",
        "  with torch.no_grad():\n",
        "    a -= lr * a.grad\n",
        "    b -= lr * b.grad\n",
        "\n",
        "  a.grad.zero_()\n",
        "  a.grad.zero_()\n",
        "\n",
        "  print(f'Epoch : {epoch+1} , Loss : {loss.item():.4f} , a = {a.item():.4f}')\n",
        "  losses.append(loss.item())"
      ],
      "metadata": {
        "colab": {
          "base_uri": "https://localhost:8080/"
        },
        "id": "JIwF2ng6LuAO",
        "outputId": "bcd83891-330f-4cb1-8fea-232fea8c476c"
      },
      "execution_count": null,
      "outputs": [
        {
          "output_type": "stream",
          "name": "stdout",
          "text": [
            "Epoch : 1 , Loss : 0.0635 , a = -0.0001\n",
            "Epoch : 2 , Loss : 0.0633 , a = -0.0001\n",
            "Epoch : 3 , Loss : 0.0629 , a = -0.0002\n",
            "Epoch : 4 , Loss : 0.0624 , a = -0.0003\n",
            "Epoch : 5 , Loss : 0.0616 , a = -0.0003\n",
            "Epoch : 6 , Loss : 0.0607 , a = -0.0004\n",
            "Epoch : 7 , Loss : 0.0597 , a = -0.0005\n",
            "Epoch : 8 , Loss : 0.0585 , a = -0.0005\n",
            "Epoch : 9 , Loss : 0.0572 , a = -0.0006\n",
            "Epoch : 10 , Loss : 0.0557 , a = -0.0007\n",
            "Epoch : 11 , Loss : 0.0542 , a = -0.0007\n",
            "Epoch : 12 , Loss : 0.0526 , a = -0.0008\n",
            "Epoch : 13 , Loss : 0.0508 , a = -0.0009\n",
            "Epoch : 14 , Loss : 0.0491 , a = -0.0009\n",
            "Epoch : 15 , Loss : 0.0473 , a = -0.0010\n",
            "Epoch : 16 , Loss : 0.0454 , a = -0.0011\n",
            "Epoch : 17 , Loss : 0.0436 , a = -0.0012\n",
            "Epoch : 18 , Loss : 0.0417 , a = -0.0012\n",
            "Epoch : 19 , Loss : 0.0398 , a = -0.0013\n",
            "Epoch : 20 , Loss : 0.0380 , a = -0.0014\n",
            "Epoch : 21 , Loss : 0.0362 , a = -0.0014\n",
            "Epoch : 22 , Loss : 0.0344 , a = -0.0015\n",
            "Epoch : 23 , Loss : 0.0326 , a = -0.0016\n",
            "Epoch : 24 , Loss : 0.0309 , a = -0.0016\n",
            "Epoch : 25 , Loss : 0.0293 , a = -0.0017\n",
            "Epoch : 26 , Loss : 0.0277 , a = -0.0018\n",
            "Epoch : 27 , Loss : 0.0262 , a = -0.0018\n",
            "Epoch : 28 , Loss : 0.0247 , a = -0.0019\n",
            "Epoch : 29 , Loss : 0.0233 , a = -0.0020\n",
            "Epoch : 30 , Loss : 0.0219 , a = -0.0020\n",
            "Epoch : 31 , Loss : 0.0206 , a = -0.0021\n",
            "Epoch : 32 , Loss : 0.0194 , a = -0.0022\n",
            "Epoch : 33 , Loss : 0.0182 , a = -0.0022\n",
            "Epoch : 34 , Loss : 0.0171 , a = -0.0023\n",
            "Epoch : 35 , Loss : 0.0161 , a = -0.0024\n",
            "Epoch : 36 , Loss : 0.0151 , a = -0.0024\n",
            "Epoch : 37 , Loss : 0.0141 , a = -0.0025\n",
            "Epoch : 38 , Loss : 0.0133 , a = -0.0026\n",
            "Epoch : 39 , Loss : 0.0124 , a = -0.0026\n",
            "Epoch : 40 , Loss : 0.0117 , a = -0.0027\n",
            "Epoch : 41 , Loss : 0.0109 , a = -0.0028\n",
            "Epoch : 42 , Loss : 0.0102 , a = -0.0028\n",
            "Epoch : 43 , Loss : 0.0096 , a = -0.0029\n",
            "Epoch : 44 , Loss : 0.0090 , a = -0.0030\n",
            "Epoch : 45 , Loss : 0.0084 , a = -0.0030\n",
            "Epoch : 46 , Loss : 0.0079 , a = -0.0031\n",
            "Epoch : 47 , Loss : 0.0074 , a = -0.0032\n",
            "Epoch : 48 , Loss : 0.0070 , a = -0.0032\n",
            "Epoch : 49 , Loss : 0.0065 , a = -0.0033\n",
            "Epoch : 50 , Loss : 0.0061 , a = -0.0034\n"
          ]
        }
      ]
    },
    {
      "cell_type": "code",
      "source": [
        "losses : list = []"
      ],
      "metadata": {
        "id": "St-U99Q1Mygc"
      },
      "execution_count": null,
      "outputs": []
    },
    {
      "cell_type": "code",
      "source": [
        "losses"
      ],
      "metadata": {
        "colab": {
          "base_uri": "https://localhost:8080/"
        },
        "id": "z0ZbYD_wNEvl",
        "outputId": "373e3ead-99b6-44a8-9184-ccaa26a04e6f"
      },
      "execution_count": null,
      "outputs": [
        {
          "output_type": "execute_result",
          "data": {
            "text/plain": [
              "[0.0634765625,\n",
              " 0.06328912824392319,\n",
              " 0.06291653215885162,\n",
              " 0.06236321106553078,\n",
              " 0.06163565069437027,\n",
              " 0.06074228510260582,\n",
              " 0.05969323217868805,\n",
              " 0.05850008502602577,\n",
              " 0.0571756437420845,\n",
              " 0.05573364347219467,\n",
              " 0.05418846383690834,\n",
              " 0.05255483463406563,\n",
              " 0.050847623497247696,\n",
              " 0.04908152297139168,\n",
              " 0.04727083444595337,\n",
              " 0.04542930796742439,\n",
              " 0.043569955974817276,\n",
              " 0.041704945266246796,\n",
              " 0.03984545171260834,\n",
              " 0.038001641631126404,\n",
              " 0.03618258982896805,\n",
              " 0.03439633175730705,\n",
              " 0.032649800181388855,\n",
              " 0.030948879197239876,\n",
              " 0.029298486188054085,\n",
              " 0.027702560648322105,\n",
              " 0.02616419829428196,\n",
              " 0.024685652926564217,\n",
              " 0.023268485441803932,\n",
              " 0.021913575008511543,\n",
              " 0.02062123641371727,\n",
              " 0.019391262903809547,\n",
              " 0.018223024904727936,\n",
              " 0.017115499824285507,\n",
              " 0.01606738194823265,\n",
              " 0.015077092684805393,\n",
              " 0.014142850413918495,\n",
              " 0.013262714259326458,\n",
              " 0.012434633448719978,\n",
              " 0.011656466871500015,\n",
              " 0.010926028713583946,\n",
              " 0.010241101495921612,\n",
              " 0.009599468670785427,\n",
              " 0.008998934179544449,\n",
              " 0.008437328971922398,\n",
              " 0.0079125314950943,\n",
              " 0.00742248585447669,\n",
              " 0.006965190172195435,\n",
              " 0.006538718473166227,\n",
              " 0.006141216494143009]"
            ]
          },
          "metadata": {},
          "execution_count": 34
        }
      ]
    },
    {
      "cell_type": "code",
      "source": [
        "import seaborn as sns\n",
        "\n",
        "sns.histplot(losses)"
      ],
      "metadata": {
        "colab": {
          "base_uri": "https://localhost:8080/",
          "height": 447
        },
        "id": "Ga0zkYSANH4-",
        "outputId": "0a9daf90-4048-4a5f-a53f-3f8e8f31268d"
      },
      "execution_count": null,
      "outputs": [
        {
          "output_type": "execute_result",
          "data": {
            "text/plain": [
              "<Axes: ylabel='Count'>"
            ]
          },
          "metadata": {},
          "execution_count": 35
        },
        {
          "output_type": "display_data",
          "data": {
            "text/plain": [
              "<Figure size 640x480 with 1 Axes>"
            ],
            "image/png": "[encoded data removed]"
          },
          "metadata": {}
        }
      ]
    },
    {
      "cell_type": "code",
      "source": [
        "import matplotlib.pyplot as plt\n",
        "\n",
        "plt.plot(losses , label='Losses of gradient')"
      ],
      "metadata": {
        "colab": {
          "base_uri": "https://localhost:8080/",
          "height": 447
        },
        "id": "5whD2k0YNLmD",
        "outputId": "202f37c2-7e2c-47de-8a3d-def58e420c6c"
      },
      "execution_count": null,
      "outputs": [
        {
          "output_type": "execute_result",
          "data": {
            "text/plain": [
              "[<matplotlib.lines.Line2D at 0x7fcc0f0d6780>]"
            ]
          },
          "metadata": {},
          "execution_count": 36
        },
        {
          "output_type": "display_data",
          "data": {
            "text/plain": [
              "<Figure size 640x480 with 1 Axes>"
            ],
            "image/png": "[encoded data removed]"
          },
          "metadata": {}
        }
      ]
    },
    {
      "cell_type": "code",
      "source": [
        "import torch\n",
        "import torch.nn as nn\n",
        "\n",
        "# Training data\n",
        "x = torch.tensor([[1.0], [2.0], [3.0], [4.0]])\n",
        "y = torch.tensor([[3.0], [5.0], [7.0], [9.0]])"
      ],
      "metadata": {
        "id": "B3I7iwB_NhYY"
      },
      "execution_count": null,
      "outputs": []
    },
    {
      "cell_type": "code",
      "source": [
        "class linear_model (nn.Module):\n",
        "  def __init__(self):\n",
        "    super().__init__()\n",
        "    self.linear = nn.Linear(1 , 1)\n",
        "\n",
        "  def forward(self , x):\n",
        "    return self.linear(x)\n"
      ],
      "metadata": {
        "id": "wmrhLlFxV2Dh"
      },
      "execution_count": null,
      "outputs": []
    },
    {
      "cell_type": "code",
      "source": [
        "model = linear_model()"
      ],
      "metadata": {
        "id": "AwhcDU59WlpX"
      },
      "execution_count": null,
      "outputs": []
    },
    {
      "cell_type": "code",
      "source": [
        "optimizer = torch.optim.SGD(model.parameters() , lr = 0.1)"
      ],
      "metadata": {
        "id": "eCIBKpJdWoNp"
      },
      "execution_count": null,
      "outputs": []
    },
    {
      "cell_type": "code",
      "source": [
        "loss_fn = nn.MSELoss()"
      ],
      "metadata": {
        "id": "21ZtuNuhWu1J"
      },
      "execution_count": null,
      "outputs": []
    },
    {
      "cell_type": "code",
      "source": [
        "epochs : int = 40"
      ],
      "metadata": {
        "id": "yzMFqgs8W5b_"
      },
      "execution_count": null,
      "outputs": []
    },
    {
      "cell_type": "code",
      "source": [],
      "metadata": {
        "id": "eKMezxW8XpNS"
      },
      "execution_count": null,
      "outputs": []
    }
  ]
}